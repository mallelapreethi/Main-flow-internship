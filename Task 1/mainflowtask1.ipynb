{
  "nbformat": 4,
  "nbformat_minor": 0,
  "metadata": {
    "colab": {
      "provenance": []
    },
    "kernelspec": {
      "name": "python3",
      "display_name": "Python 3"
    },
    "language_info": {
      "name": "python"
    }
  },
  "cells": [
    {
      "cell_type": "markdown",
      "source": [
        "List is an ordered sequence of items represented by [ ]. Values present in the list are called elements/items.  Items are separated in list by comma.\n",
        "Items in the list can be of different data types.\n",
        "Lists are mutable(can be modified)."
      ],
      "metadata": {
        "id": "JnOdiB5SHHF4"
      }
    },
    {
      "cell_type": "code",
      "source": [
        "# creating/defining a list\n",
        "example = [1, 2, \"a\", True]\n",
        "print(\"Initial list: \", example)\n",
        "\n",
        "# adding an element to the list\n",
        "example.append(\"dog\")\n",
        "example.insert(2, \"cat\") # adding element at a particular index\n",
        "print(\"After adding elements the list: \", example)\n",
        "\n",
        "# removing an element from the list\n",
        "example.remove(\"a\") # removes specific element\n",
        "example.pop() # removes last element\n",
        "example.pop(2) # removes based on index\n",
        "print(\"After removing elements the list: \", example)\n",
        "\n",
        "# modifying a element in the list\n",
        "example[0] = 100\n",
        "print(\"Updated list: \", example)"
      ],
      "metadata": {
        "colab": {
          "base_uri": "https://localhost:8080/"
        },
        "id": "W6E-BrF2IFFB",
        "outputId": "58f60aeb-22bf-45e2-e996-8a747d6dc712"
      },
      "execution_count": null,
      "outputs": [
        {
          "output_type": "stream",
          "name": "stdout",
          "text": [
            "Initial list:  [1, 2, 'a', True]\n",
            "After adding an element list:  [1, 2, 'cat', 'a', True, 'dog']\n",
            "After removing elements the list:  [1, 2, True]\n",
            "Updated list:  [100, 2, True]\n"
          ]
        }
      ]
    },
    {
      "cell_type": "markdown",
      "source": [
        "Sets are used to store multiple items in single variable.  Sets are unindexed, unordered, mutable and donot allow duplicates."
      ],
      "metadata": {
        "id": "B2NL7YUmLCot"
      }
    },
    {
      "cell_type": "code",
      "source": [
        "empty_set = set() #defining empty set\n",
        "print(\"Empty set: \", empty_set)\n",
        "\n",
        "animals = {\"zebra\", \"tiger\", \"dog\", \"lion\", \"cat\"}  # defining/creating a set\n",
        "print(\"Initial animal set:\", animals)\n",
        "\n",
        "# adding an element to the set\n",
        "animals.add(\"donkey\")\n",
        "print(\"After adding an element animal set: \", animals)\n",
        "\n",
        "# removing an element from the set\n",
        "animals.remove(\"cat\")\n",
        "print(\"After removing an element animal set: \", animals)\n",
        "\n",
        "# modifying an element from the set\n",
        "animals.discard(\"lion\")\n",
        "animals.add(\"hippo\")\n",
        "print(\"After modfying an element animal set: \", animals)"
      ],
      "metadata": {
        "colab": {
          "base_uri": "https://localhost:8080/"
        },
        "id": "y_H6GDMELAr2",
        "outputId": "1132f25a-dac7-4a98-807a-2b7bc2a0619f"
      },
      "execution_count": null,
      "outputs": [
        {
          "output_type": "stream",
          "name": "stdout",
          "text": [
            "Empty set:  set()\n",
            "Initial animal set: {'cat', 'dog', 'tiger', 'zebra', 'lion'}\n",
            "After adding an element animal set:  {'cat', 'donkey', 'dog', 'tiger', 'zebra', 'lion'}\n",
            "After removing an element animal set:  {'donkey', 'dog', 'tiger', 'zebra', 'lion'}\n",
            "After modfying an element animal set:  {'donkey', 'hippo', 'dog', 'tiger', 'zebra'}\n"
          ]
        }
      ]
    },
    {
      "cell_type": "markdown",
      "source": [
        "Dictionaries are unordered collections of key-value pairs represented in { }\n",
        "No indexing for accessing elements, elements are accessed with the help of keys. Keys are immutable and unique whereas values are mutable."
      ],
      "metadata": {
        "id": "AzDVOEjvSkdj"
      }
    },
    {
      "cell_type": "code",
      "source": [
        "# creating/defining a dictionary for storing students' attendance\n",
        "# student's attendance is mapped to the corresponding student name\n",
        "attendance = {\"Ravi\": 90, \"Sita\": 95, \"Rama\": 85}\n",
        "print(\"Initial dictionary: \", attendance)\n",
        "\n",
        "# adding an element to the dictionary\n",
        "attendance[\"Geetha\"] = 80\n",
        "print(\"Dictionary after adding an element to dictionary: \", attendance)\n",
        "\n",
        "# removing an element from the dictionary\n",
        "del attendance[\"Ravi\"]\n",
        "print(\"Dictionary after deleting an element: \", attendance)\n",
        "\n",
        "# modifying an element in the dictionary\n",
        "attendance[\"Geetha\"] = 90\n",
        "print(\"Updated dictioanry: \", attendance)"
      ],
      "metadata": {
        "colab": {
          "base_uri": "https://localhost:8080/"
        },
        "id": "tePzSRsKSjfa",
        "outputId": "f9d5e2f7-891a-4eb8-91f7-1f5e3f766f86"
      },
      "execution_count": null,
      "outputs": [
        {
          "output_type": "stream",
          "name": "stdout",
          "text": [
            "Initial dictionary:  {'Ravi': 90, 'Sita': 95, 'Rama': 85}\n",
            "Dictionary after adding an element to dictionary:  {'Ravi': 90, 'Sita': 95, 'Rama': 85, 'Geetha': 80}\n",
            "Dictionary after deleting an element:  {'Sita': 95, 'Rama': 85, 'Geetha': 80}\n",
            "Updated dictioanry:  {'Sita': 95, 'Rama': 85, 'Geetha': 90}\n"
          ]
        }
      ]
    }
  ]
}